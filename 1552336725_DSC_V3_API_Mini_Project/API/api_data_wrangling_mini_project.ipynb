{
 "cells": [
  {
   "cell_type": "markdown",
   "metadata": {},
   "source": [
    "This exercise will require you to pull some data from the Qunadl API. Qaundl is currently the most widely used aggregator of financial market data."
   ]
  },
  {
   "cell_type": "markdown",
   "metadata": {},
   "source": [
    "As a first step, you will need to register a free account on the http://www.quandl.com website."
   ]
  },
  {
   "cell_type": "markdown",
   "metadata": {},
   "source": [
    "After you register, you will be provided with a unique API key, that you should store:"
   ]
  },
  {
   "cell_type": "code",
   "execution_count": 1,
   "metadata": {},
   "outputs": [],
   "source": [
    "# Store the API key as a string - according to PEP8, constants are always named in all upper case\n",
    "API_KEY = 'ufM-oNmSWN8hV4K7PS1H'"
   ]
  },
  {
   "cell_type": "markdown",
   "metadata": {},
   "source": [
    "Qaundl has a large number of data sources, but, unfortunately, most of them require a Premium subscription. Still, there are also a good number of free datasets."
   ]
  },
  {
   "cell_type": "markdown",
   "metadata": {},
   "source": [
    "For this mini project, we will focus on equities data from the Frankfurt Stock Exhange (FSE), which is available for free. We'll try and analyze the stock prices of a company called Carl Zeiss Meditec, which manufactures tools for eye examinations, as well as medical lasers for laser eye surgery: https://www.zeiss.com/meditec/int/home.html. The company is listed under the stock ticker AFX_X."
   ]
  },
  {
   "cell_type": "markdown",
   "metadata": {},
   "source": [
    "You can find the detailed Quandl API instructions here: https://docs.quandl.com/docs/time-series"
   ]
  },
  {
   "cell_type": "markdown",
   "metadata": {},
   "source": [
    "While there is a dedicated Python package for connecting to the Quandl API, we would prefer that you use the *requests* package, which can be easily downloaded using *pip* or *conda*. You can find the documentation for the package here: http://docs.python-requests.org/en/master/ "
   ]
  },
  {
   "cell_type": "markdown",
   "metadata": {},
   "source": [
    "Finally, apart from the *requests* package, you are encouraged to not use any third party Python packages, such as *pandas*, and instead focus on what's available in the Python Standard Library (the *collections* module might come in handy: https://pymotw.com/3/collections/ ).\n",
    "Also, since you won't have access to DataFrames, you are encouraged to us Python's native data structures - preferably dictionaries, though some questions can also be answered using lists.\n",
    "You can read more on these data structures here: https://docs.python.org/3/tutorial/datastructures.html"
   ]
  },
  {
   "cell_type": "markdown",
   "metadata": {},
   "source": [
    "Keep in mind that the JSON responses you will be getting from the API map almost one-to-one to Python's dictionaries. Unfortunately, they can be very nested, so make sure you read up on indexing dictionaries in the documentation provided above."
   ]
  },
  {
   "cell_type": "code",
   "execution_count": 2,
   "metadata": {},
   "outputs": [],
   "source": [
    "# First, import the relevant modules\n",
    "import requests\n",
    "\n",
    "#import json -- This library is not needed!!!\n",
    "\n",
    "# How do we use json here, and more of dictionaries in the solution???"
   ]
  },
  {
   "cell_type": "code",
   "execution_count": 3,
   "metadata": {},
   "outputs": [],
   "source": [
    "# Now, call the Quandl API and pull out a small sample of the data (only one day) to get a glimpse\n",
    "# into the JSON structure that will be returned\n",
    "\n",
    "# Using the {dataset}.json param to return data and metadata \n",
    "response_one_day = requests.get('https://www.quandl.com/api/v3/datasets/FSE/AFX_X.json?&start_date=2019-01-02&end_date=2019-01-02&api_key='+API_KEY)"
   ]
  },
  {
   "cell_type": "code",
   "execution_count": 4,
   "metadata": {},
   "outputs": [
    {
     "name": "stdout",
     "output_type": "stream",
     "text": [
      "<Response [200]>\n",
      "{\"dataset\":{\"id\":10095370,\"dataset_code\":\"AFX_X\",\"database_code\":\"FSE\",\"name\":\"Carl Zeiss Meditec (AFX_X)\",\"description\":\"Stock Prices for Carl Zeiss Meditec (2020-11-02) from the Frankfurt Stock Exchange.\\u003cbr\\u003e\\u003cbr\\u003eTrading System: Xetra\\u003cbr\\u003e\\u003cbr\\u003eISIN: DE0005313704\",\"refreshed_at\":\"2020-12-01T14:48:09.907Z\",\"newest_available_date\":\"2020-12-01\",\"oldest_available_date\":\"2000-06-07\",\"column_names\":[\"Date\",\"Open\",\"High\",\"Low\",\"Close\",\"Change\",\"Traded Volume\",\"Turnover\",\"Last Price of the Day\",\"Daily Traded Units\",\"Daily Turnover\"],\"frequency\":\"daily\",\"type\":\"Time Series\",\"premium\":false,\"limit\":null,\"transform\":null,\"column_index\":null,\"start_date\":\"2019-01-02\",\"end_date\":\"2019-01-02\",\"data\":[[\"2019-01-02\",null,70.85,68.25,69.85,null,null,null,null,null,null]],\"collapse\":null,\"order\":null,\"database_id\":6129}}\n"
     ]
    }
   ],
   "source": [
    "# Inspect the JSON structure of the object you created, and take note of how nested it is,\n",
    "# as well as the overall structure\n",
    "print(response_one_day)\n",
    "print(response_one_day.text)"
   ]
  },
  {
   "cell_type": "markdown",
   "metadata": {},
   "source": [
    "These are your tasks for this mini project:\n",
    "\n",
    "1. Collect data from the Franfurt Stock Exchange, for the ticker AFX_X, for the whole year 2017 (keep in mind that the date format is YYYY-MM-DD).\n",
    "2. Convert the returned JSON object into a Python dictionary.\n",
    "3. Calculate what the highest and lowest opening prices were for the stock in this period.\n",
    "4. What was the largest change in any one day (based on High and Low price)?\n",
    "5. What was the largest change between any two days (based on Closing Price)?\n",
    "6. What was the average daily trading volume during this year?\n",
    "7. (Optional) What was the median trading volume during this year. (Note: you may need to implement your own function for calculating the median.)"
   ]
  },
  {
   "cell_type": "code",
   "execution_count": 5,
   "metadata": {},
   "outputs": [],
   "source": [
    "# Collect data from the Franfurt Stock Exchange, for the ticker AFX_X, for the whole year 2017 (keep in mind that the date format is YYYY-MM-DD).\n",
    "response_year_2017 = requests.get('https://www.quandl.com/api/v3/datasets/FSE/AFX_X.json?&start_date=2017-01-01&end_date=2017-12-31&api_key='+API_KEY)\n",
    "\n",
    "#print(response_year_2017)"
   ]
  },
  {
   "cell_type": "code",
   "execution_count": 6,
   "metadata": {},
   "outputs": [],
   "source": [
    "# Convert the returned JSON object into a Python dictionary.\n",
    "dict_2017 = response_year_2017.json()\n",
    "\n",
    "#print(dict_2017)"
   ]
  },
  {
   "cell_type": "code",
   "execution_count": 7,
   "metadata": {},
   "outputs": [],
   "source": [
    "list_data_2017 = dict_2017['dataset']['data']\n",
    "\n",
    "#print(list_data_2017)"
   ]
  },
  {
   "cell_type": "code",
   "execution_count": 8,
   "metadata": {},
   "outputs": [
    {
     "name": "stdout",
     "output_type": "stream",
     "text": [
      "53.11\n",
      "34.0\n"
     ]
    }
   ],
   "source": [
    "# Calculate what the highest and lowest opening prices were for the stock in this period.\n",
    "\n",
    "# Create a list of open prices only, excluding None values\n",
    "#list_open_price = list(data_row[1] for myRow in myData if data_row[1] is not None)\n",
    "list_open_price = list(data_row[1] for data_row in list_data_2017 if data_row[1])\n",
    "\n",
    "#print(list_open_price)\n",
    "\n",
    "# Print the max and min from that list\n",
    "print(max(list_open_price))\n",
    "print(min(list_open_price))"
   ]
  },
  {
   "cell_type": "code",
   "execution_count": 9,
   "metadata": {},
   "outputs": [
    {
     "name": "stdout",
     "output_type": "stream",
     "text": [
      "2.8100000000000023\n",
      "0.18999999999999773\n"
     ]
    }
   ],
   "source": [
    "# What was the largest change in any one day (based on High and Low price)?\n",
    "\n",
    "# Create a list of daily price change, excluding days where either of High or Low value was None\n",
    "list_day_change_price = list((data_row[2] - data_row[3]) for data_row in list_data_2017 if (bool(data_row[2]) & bool(data_row[3])))\n",
    "\n",
    "# Print the max and min from that list\n",
    "print(max(list_day_change_price))\n",
    "print(min(list_day_change_price))"
   ]
  },
  {
   "cell_type": "code",
   "execution_count": 10,
   "metadata": {},
   "outputs": [
    {
     "name": "stdout",
     "output_type": "stream",
     "text": [
      "2.559999999999995\n",
      "-1.7199999999999989\n"
     ]
    }
   ],
   "source": [
    "# What was the largest change between any two days (based on Closing Price)\n",
    "\n",
    "# Create a list of close prices only, including None values\n",
    "list_close_price = list(data_row[4] for data_row in list_data_2017)\n",
    "\n",
    "#print(list_close_price)\n",
    "\n",
    "# Create a list of change in prices for every following day, not including cases where either day has None value\n",
    "list_change_close_price = list(list_close_price[i + 1] - list_close_price[i] for i in range(len(list_close_price) - 1) if (bool(list_close_price[i]) & bool(list_close_price[i + 1])) )\n",
    "\n",
    "# Print the max and min from that list\n",
    "print(max(list_change_close_price))\n",
    "print(min(list_change_close_price))"
   ]
  },
  {
   "cell_type": "code",
   "execution_count": 11,
   "metadata": {},
   "outputs": [
    {
     "name": "stdout",
     "output_type": "stream",
     "text": [
      "89124.33725490196\n"
     ]
    }
   ],
   "source": [
    "# What was the average daily trading volume during this year?\n",
    "\n",
    "# Create a list of daily volumes, not including None values\n",
    "list_daily_volume = list(data_row[6] for data_row in list_data_2017 if data_row[6])\n",
    "\n",
    "# Print the average of that list\n",
    "print(sum(list_daily_volume) / len(list_daily_volume))"
   ]
  },
  {
   "cell_type": "code",
   "execution_count": 12,
   "metadata": {},
   "outputs": [
    {
     "name": "stdout",
     "output_type": "stream",
     "text": [
      "76286.0\n"
     ]
    }
   ],
   "source": [
    "# (Optional) What was the median trading volume during this year. (Note: you may need to implement your own function for calculating the median.)\n",
    "\n",
    "# Define a function to calculate the median of a list\n",
    "def func_median(list_param):\n",
    "    list_new = list(list_param)       # Create a new list to keep the original list unchanged\n",
    "    list_new.sort()                   # Sort the new list\n",
    "    int_listlen = len(list_new)    \n",
    "    if (int_listlen == 0):            # For empty list, return 0\n",
    "        return 0\n",
    "    elif (int_listlen % 2 == 0):      # Implement the median logic and return\n",
    "        return (list_new[int_listlen/2] + list_new[int_listlen / 2 - 1]) / 2\n",
    "    else:\n",
    "        return (list_new[int(int_listlen / 2)]) \n",
    "\n",
    "# Print the median\n",
    "print(func_median(list_daily_volume))"
   ]
  },
  {
   "cell_type": "code",
   "execution_count": null,
   "metadata": {},
   "outputs": [],
   "source": []
  }
 ],
 "metadata": {
  "kernelspec": {
   "display_name": "Python 3",
   "language": "python",
   "name": "python3"
  },
  "language_info": {
   "codemirror_mode": {
    "name": "ipython",
    "version": 3
   },
   "file_extension": ".py",
   "mimetype": "text/x-python",
   "name": "python",
   "nbconvert_exporter": "python",
   "pygments_lexer": "ipython3",
   "version": "3.8.5"
  }
 },
 "nbformat": 4,
 "nbformat_minor": 2
}
